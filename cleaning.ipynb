{
 "cells": [
  {
   "cell_type": "code",
   "execution_count": 2,
   "metadata": {},
   "outputs": [],
   "source": [
    "import pandas as pd\n",
    "import numpy as np\n",
    "\n",
    "#plotting\n",
    "import seaborn as sns\n",
    "import matplotlib.pyplot as plt\n",
    "%matplotlib inline\n",
    "\n",
    "from imblearn.over_sampling import ADASYN\n",
    "from sklearn.decomposition import PCA"
   ]
  },
  {
   "cell_type": "code",
   "execution_count": 3,
   "metadata": {},
   "outputs": [],
   "source": [
    "from IPython.display import Audio\n",
    "\n",
    "# create a PING noise to let you know modeling is done\n",
    "sound_file = 'glass_ping-Go445-1207030150.mp3'\n",
    "play_sound = Audio(sound_file, autoplay=True)"
   ]
  },
  {
   "cell_type": "markdown",
   "metadata": {},
   "source": [
    "## Cleaning"
   ]
  },
  {
   "cell_type": "markdown",
   "metadata": {},
   "source": [
    "https://www.kaggle.com/c/ieee-fraud-detection/overview"
   ]
  },
  {
   "cell_type": "code",
   "execution_count": 4,
   "metadata": {},
   "outputs": [],
   "source": [
    "train_df = pd.read_csv('Fraud/train_transaction.csv')\n",
    "\n",
    "# test is based on Kaggle competition, and does not include targets\n",
    "test_df = pd.read_csv('Fraud/test_transaction.csv')"
   ]
  },
  {
   "cell_type": "code",
   "execution_count": 5,
   "metadata": {},
   "outputs": [
    {
     "data": {
      "image/png": "[encoded data removed]",
      "text/plain": [
       "<Figure size 1080x288 with 1 Axes>"
      ]
     },
     "metadata": {
      "needs_background": "light"
     },
     "output_type": "display_data"
    }
   ],
   "source": [
    "train_df['TransactionDT'].plot(kind='hist', bins=20, figsize=(15,4))\n",
    "test_df['TransactionDT'].plot(kind='hist', bins=20, figsize=(15,4));"
   ]
  },
  {
   "cell_type": "code",
   "execution_count": 6,
   "metadata": {},
   "outputs": [
    {
     "name": "stdout",
     "output_type": "stream",
     "text": [
      "Total transaction amount: $79738948.74\n",
      "Total fraud transaction amount: $3083844.86\n",
      "Fraud represents 3.87% of total.\n"
     ]
    }
   ],
   "source": [
    "total_trans = train_df['TransactionAmt'].sum()\n",
    "\n",
    "fraud_trans = train_df.query(\"isFraud == 1\")['TransactionAmt'].sum()\n",
    "\n",
    "print(f'Total transaction amount: ${round(total_trans,2)}')\n",
    "print(f'Total fraud transaction amount: ${round(fraud_trans,2)}')\n",
    "print(f'Fraud represents {round((fraud_trans/total_trans)*100,2)}% of total.')"
   ]
  },
  {
   "cell_type": "code",
   "execution_count": 7,
   "metadata": {},
   "outputs": [],
   "source": [
    "## un-comment if you'd like to reduce the memory usage - \n",
    "## potentially breaks some functions later\n",
    "\n",
    "# def reduce_mem_usage(df, verbose=True):\n",
    "#     numerics = ['int16', 'int32', 'int64', 'float16', 'float32', 'float64']\n",
    "#     start_mem = df.memory_usage().sum() / 1024**2    \n",
    "#     for col in df.columns:\n",
    "#         col_type = df[col].dtypes\n",
    "#         if col_type in numerics:\n",
    "#             c_min = df[col].min()\n",
    "#             c_max = df[col].max()\n",
    "#             if str(col_type)[:3] == 'int':\n",
    "#                 if c_min > np.iinfo(np.int8).min and c_max < np.iinfo(np.int8).max:\n",
    "#                     df[col] = df[col].astype(np.int8)\n",
    "#                 elif c_min > np.iinfo(np.int16).min and c_max < np.iinfo(np.int16).max:\n",
    "#                     df[col] = df[col].astype(np.int16)\n",
    "#                 elif c_min > np.iinfo(np.int32).min and c_max < np.iinfo(np.int32).max:\n",
    "#                     df[col] = df[col].astype(np.int32)\n",
    "#                 elif c_min > np.iinfo(np.int64).min and c_max < np.iinfo(np.int64).max:\n",
    "#                     df[col] = df[col].astype(np.int64)  \n",
    "#             else:\n",
    "#                 if c_min > np.finfo(np.float16).min and c_max < np.finfo(np.float16).max:\n",
    "#                     df[col] = df[col].astype(np.float16)\n",
    "#                 elif c_min > np.finfo(np.float32).min and c_max < np.finfo(np.float32).max:\n",
    "#                     df[col] = df[col].astype(np.float32)\n",
    "#                 else:\n",
    "#                     df[col] = df[col].astype(np.float64)    \n",
    "#     end_mem = df.memory_usage().sum() / 1024**2\n",
    "#     if verbose: print('Mem. usage decreased to {:5.2f} Mb ({:.1f}% reduction)'.format(end_mem, 100 * (start_mem - end_mem) / start_mem))\n",
    "#     return df\n",
    "\n",
    "\n",
    "# train_df = reduce_mem_usage(train_df)\n",
    "# test_df = reduce_mem_usage(test_df)\n",
    "\n",
    "# play_sound"
   ]
  },
  {
   "cell_type": "code",
   "execution_count": 8,
   "metadata": {},
   "outputs": [],
   "source": [
    "# test_df does not contain targets, and only used for Kaggle competition\n",
    "del test_df"
   ]
  },
  {
   "cell_type": "code",
   "execution_count": 9,
   "metadata": {},
   "outputs": [],
   "source": [
    "train_df = train_df.iloc[:, :32].drop(columns=['dist1','dist2','R_emaildomain'])"
   ]
  },
  {
   "cell_type": "code",
   "execution_count": 10,
   "metadata": {},
   "outputs": [
    {
     "data": {
      "text/html": [
       "<div>\n",
       "<style scoped>\n",
       "    .dataframe tbody tr th:only-of-type {\n",
       "        vertical-align: middle;\n",
       "    }\n",
       "\n",
       "    .dataframe tbody tr th {\n",
       "        vertical-align: top;\n",
       "    }\n",
       "\n",
       "    .dataframe thead th {\n",
       "        text-align: right;\n",
       "    }\n",
       "</style>\n",
       "<table border=\"1\" class=\"dataframe\">\n",
       "  <thead>\n",
       "    <tr style=\"text-align: right;\">\n",
       "      <th></th>\n",
       "      <th>TransactionID</th>\n",
       "      <th>isFraud</th>\n",
       "      <th>TransactionDT</th>\n",
       "      <th>TransactionAmt</th>\n",
       "      <th>card1</th>\n",
       "      <th>card2</th>\n",
       "      <th>card3</th>\n",
       "      <th>card5</th>\n",
       "      <th>addr1</th>\n",
       "      <th>addr2</th>\n",
       "      <th>...</th>\n",
       "      <th>P_emaildomain_web.de</th>\n",
       "      <th>P_emaildomain_windstream.net</th>\n",
       "      <th>P_emaildomain_yahoo.co.jp</th>\n",
       "      <th>P_emaildomain_yahoo.co.uk</th>\n",
       "      <th>P_emaildomain_yahoo.com</th>\n",
       "      <th>P_emaildomain_yahoo.com.mx</th>\n",
       "      <th>P_emaildomain_yahoo.de</th>\n",
       "      <th>P_emaildomain_yahoo.es</th>\n",
       "      <th>P_emaildomain_yahoo.fr</th>\n",
       "      <th>P_emaildomain_ymail.com</th>\n",
       "    </tr>\n",
       "  </thead>\n",
       "  <tbody>\n",
       "    <tr>\n",
       "      <td>355303</td>\n",
       "      <td>3342303</td>\n",
       "      <td>0</td>\n",
       "      <td>8796239</td>\n",
       "      <td>171.0</td>\n",
       "      <td>2157</td>\n",
       "      <td>111.0</td>\n",
       "      <td>150.0</td>\n",
       "      <td>226.0</td>\n",
       "      <td>494.0</td>\n",
       "      <td>87.0</td>\n",
       "      <td>...</td>\n",
       "      <td>0</td>\n",
       "      <td>0</td>\n",
       "      <td>0</td>\n",
       "      <td>0</td>\n",
       "      <td>1</td>\n",
       "      <td>0</td>\n",
       "      <td>0</td>\n",
       "      <td>0</td>\n",
       "      <td>0</td>\n",
       "      <td>0</td>\n",
       "    </tr>\n",
       "    <tr>\n",
       "      <td>194819</td>\n",
       "      <td>3181819</td>\n",
       "      <td>0</td>\n",
       "      <td>4388390</td>\n",
       "      <td>272.0</td>\n",
       "      <td>16297</td>\n",
       "      <td>544.0</td>\n",
       "      <td>150.0</td>\n",
       "      <td>117.0</td>\n",
       "      <td>123.0</td>\n",
       "      <td>87.0</td>\n",
       "      <td>...</td>\n",
       "      <td>0</td>\n",
       "      <td>0</td>\n",
       "      <td>0</td>\n",
       "      <td>0</td>\n",
       "      <td>1</td>\n",
       "      <td>0</td>\n",
       "      <td>0</td>\n",
       "      <td>0</td>\n",
       "      <td>0</td>\n",
       "      <td>0</td>\n",
       "    </tr>\n",
       "  </tbody>\n",
       "</table>\n",
       "<p>2 rows × 93 columns</p>\n",
       "</div>"
      ],
      "text/plain": [
       "        TransactionID  isFraud  TransactionDT  TransactionAmt  card1  card2  \\\n",
       "355303        3342303        0        8796239           171.0   2157  111.0   \n",
       "194819        3181819        0        4388390           272.0  16297  544.0   \n",
       "\n",
       "        card3  card5  addr1  addr2  ...  P_emaildomain_web.de  \\\n",
       "355303  150.0  226.0  494.0   87.0  ...                     0   \n",
       "194819  150.0  117.0  123.0   87.0  ...                     0   \n",
       "\n",
       "        P_emaildomain_windstream.net  P_emaildomain_yahoo.co.jp  \\\n",
       "355303                             0                          0   \n",
       "194819                             0                          0   \n",
       "\n",
       "        P_emaildomain_yahoo.co.uk  P_emaildomain_yahoo.com  \\\n",
       "355303                          0                        1   \n",
       "194819                          0                        1   \n",
       "\n",
       "        P_emaildomain_yahoo.com.mx  P_emaildomain_yahoo.de  \\\n",
       "355303                           0                       0   \n",
       "194819                           0                       0   \n",
       "\n",
       "        P_emaildomain_yahoo.es  P_emaildomain_yahoo.fr  \\\n",
       "355303                       0                       0   \n",
       "194819                       0                       0   \n",
       "\n",
       "        P_emaildomain_ymail.com  \n",
       "355303                        0  \n",
       "194819                        0  \n",
       "\n",
       "[2 rows x 93 columns]"
      ]
     },
     "execution_count": 10,
     "metadata": {},
     "output_type": "execute_result"
    }
   ],
   "source": [
    "# find catagorical columns\n",
    "cat_cal = [x for x in train_df if train_df[x].dtype == 'O']\n",
    "\n",
    "# dummy features\n",
    "dummy_df = pd.get_dummies(train_df, columns=cat_cal, drop_first=True)\n",
    "\n",
    "dummy_df.sample(2)"
   ]
  },
  {
   "cell_type": "markdown",
   "metadata": {},
   "source": [
    "## Setting Features and Target"
   ]
  },
  {
   "cell_type": "code",
   "execution_count": 11,
   "metadata": {},
   "outputs": [],
   "source": [
    "from sklearn.model_selection import train_test_split"
   ]
  },
  {
   "cell_type": "code",
   "execution_count": 12,
   "metadata": {},
   "outputs": [],
   "source": [
    "X = dummy_df.drop(columns=['isFraud'])\n",
    "y = dummy_df['isFraud']"
   ]
  },
  {
   "cell_type": "code",
   "execution_count": 13,
   "metadata": {},
   "outputs": [],
   "source": [
    "X_train, X_test, y_train, y_test = train_test_split(X, y, stratify=y, random_state=42)"
   ]
  },
  {
   "cell_type": "markdown",
   "metadata": {},
   "source": [
    "## Replacing NA Values"
   ]
  },
  {
   "cell_type": "code",
   "execution_count": 14,
   "metadata": {},
   "outputs": [
    {
     "data": {
      "text/plain": [
       "TransactionID      0.000000\n",
       "isFraud            0.000000\n",
       "TransactionDT      0.000000\n",
       "TransactionAmt     0.000000\n",
       "ProductCD          0.000000\n",
       "card1              0.000000\n",
       "card2              1.512683\n",
       "card3              0.265012\n",
       "card4              0.267044\n",
       "card5              0.721204\n",
       "card6              0.266028\n",
       "addr1             11.126427\n",
       "addr2             11.126427\n",
       "P_emaildomain     15.994852\n",
       "C1                 0.000000\n",
       "C2                 0.000000\n",
       "C3                 0.000000\n",
       "C4                 0.000000\n",
       "C5                 0.000000\n",
       "C6                 0.000000\n",
       "C7                 0.000000\n",
       "C8                 0.000000\n",
       "C9                 0.000000\n",
       "C10                0.000000\n",
       "C11                0.000000\n",
       "C12                0.000000\n",
       "C13                0.000000\n",
       "C14                0.000000\n",
       "D1                 0.214888\n",
       "dtype: float64"
      ]
     },
     "execution_count": 14,
     "metadata": {},
     "output_type": "execute_result"
    }
   ],
   "source": [
    "# show % of NAs in columns\n",
    "(train_df.isna().sum() / train_df.shape[0]) * 100"
   ]
  },
  {
   "cell_type": "code",
   "execution_count": 16,
   "metadata": {},
   "outputs": [
    {
     "name": "stdout",
     "output_type": "stream",
     "text": [
      "CPU times: user 3min 4s, sys: 1.9 s, total: 3min 6s\n",
      "Wall time: 3min 5s\n"
     ]
    },
    {
     "data": {
      "text/plain": [
       "167282"
      ]
     },
     "execution_count": 16,
     "metadata": {},
     "output_type": "execute_result"
    }
   ],
   "source": [
    "%%time\n",
    "# find the transactions that have at least one na\n",
    "na_lst = []\n",
    "for i in train_df.index:\n",
    "    if train_df.iloc[i].isnull().any() > 0:\n",
    "        na_lst.append(i)\n",
    "        \n",
    "len(na_lst)"
   ]
  },
  {
   "cell_type": "markdown",
   "metadata": {},
   "source": [
    "##### Because there are so many observations with NAs, we're going to impute those values, instead of dropping them"
   ]
  },
  {
   "cell_type": "code",
   "execution_count": 15,
   "metadata": {},
   "outputs": [
    {
     "data": {
      "image/png": "[encoded data removed]",
      "text/plain": [
       "<Figure size 1440x576 with 1 Axes>"
      ]
     },
     "metadata": {
      "needs_background": "light"
     },
     "output_type": "display_data"
    }
   ],
   "source": [
    "# lots of outliers\n",
    "train_df.iloc[: ,3:].drop(columns=['card1']).plot(kind='box', figsize=(20,8));"
   ]
  },
  {
   "cell_type": "code",
   "execution_count": 16,
   "metadata": {},
   "outputs": [],
   "source": [
    "na_cols = X_train.columns[X_train.isna().sum()>0]\n",
    "\n",
    "test_na_cols = X_test.columns[X_test.isna().sum()>0]"
   ]
  },
  {
   "cell_type": "code",
   "execution_count": 17,
   "metadata": {
    "scrolled": true
   },
   "outputs": [
    {
     "name": "stdout",
     "output_type": "stream",
     "text": [
      "card2 mean 362.44545010625933\n",
      "card2 median 361.0\n"
     ]
    },
    {
     "data": {
      "image/png": "[encoded data removed]",
      "text/plain": [
       "<Figure size 432x288 with 1 Axes>"
      ]
     },
     "metadata": {
      "needs_background": "light"
     },
     "output_type": "display_data"
    },
    {
     "name": "stdout",
     "output_type": "stream",
     "text": [
      "card3 mean 153.1657112973553\n",
      "card3 median 150.0\n"
     ]
    },
    {
     "data": {
      "image/png": "[encoded data removed]",
      "text/plain": [
       "<Figure size 432x288 with 1 Axes>"
      ]
     },
     "metadata": {
      "needs_background": "light"
     },
     "output_type": "display_data"
    },
    {
     "name": "stdout",
     "output_type": "stream",
     "text": [
      "card5 mean 199.17866353724602\n",
      "card5 median 226.0\n"
     ]
    },
    {
     "data": {
      "image/png": "[encoded data removed]",
      "text/plain": [
       "<Figure size 432x288 with 1 Axes>"
      ]
     },
     "metadata": {
      "needs_background": "light"
     },
     "output_type": "display_data"
    },
    {
     "name": "stdout",
     "output_type": "stream",
     "text": [
      "addr1 mean 290.51643775124865\n",
      "addr1 median 299.0\n"
     ]
    },
    {
     "data": {
      "image/png": "[encoded data removed]",
      "text/plain": [
       "<Figure size 432x288 with 1 Axes>"
      ]
     },
     "metadata": {
      "needs_background": "light"
     },
     "output_type": "display_data"
    },
    {
     "name": "stdout",
     "output_type": "stream",
     "text": [
      "addr2 mean 86.8081830917286\n",
      "addr2 median 87.0\n"
     ]
    },
    {
     "data": {
      "image/png": "[encoded data removed]",
      "text/plain": [
       "<Figure size 432x288 with 1 Axes>"
      ]
     },
     "metadata": {
      "needs_background": "light"
     },
     "output_type": "display_data"
    },
    {
     "name": "stdout",
     "output_type": "stream",
     "text": [
      "D1 mean 94.72293899269053\n",
      "D1 median 3.0\n"
     ]
    },
    {
     "data": {
      "image/png": "[encoded data removed]",
      "text/plain": [
       "<Figure size 432x288 with 1 Axes>"
      ]
     },
     "metadata": {
      "needs_background": "light"
     },
     "output_type": "display_data"
    }
   ],
   "source": [
    "# showing the best values of dataset to replace NAs with\n",
    "\n",
    "for col in X_test[na_cols]:\n",
    "    if X_test[col].dtype != 'O':\n",
    "        X_test[col].plot(kind='hist', label='')\n",
    "        plt.title(col)\n",
    "        ymin, ymax = plt.ylim()\n",
    "        plt.vlines(X_test[col].mean(), ymin, ymax, color='blue', label='mean')\n",
    "        plt.vlines(X_test[col].median(), ymin, ymax, color='red', label='median')\n",
    "        print(f'{col} mean {X_test[col].mean()}')\n",
    "        print(f'{col} median {X_test[col].median()}')\n",
    "        plt.legend()\n",
    "        plt.show()"
   ]
  },
  {
   "cell_type": "code",
   "execution_count": 18,
   "metadata": {},
   "outputs": [
    {
     "name": "stderr",
     "output_type": "stream",
     "text": [
      "/opt/anaconda3/envs/learn-env/lib/python3.6/site-packages/pandas/core/generic.py:6287: SettingWithCopyWarning: \n",
      "A value is trying to be set on a copy of a slice from a DataFrame\n",
      "\n",
      "See the caveats in the documentation: http://pandas.pydata.org/pandas-docs/stable/user_guide/indexing.html#returning-a-view-versus-a-copy\n",
      "  self._update_inplace(new_data)\n"
     ]
    },
    {
     "data": {
      "text/plain": [
       "0"
      ]
     },
     "execution_count": 18,
     "metadata": {},
     "output_type": "execute_result"
    }
   ],
   "source": [
    "# fill NAs with median values\n",
    "for column in X_train[na_cols]:\n",
    "    median = X_train[column].median()\n",
    "    X_train[column].fillna(median, inplace=True)\n",
    "    \n",
    "\n",
    "for column in X_train[test_na_cols]:\n",
    "    median = X_test[column].median()\n",
    "    X_test[column].fillna(median, inplace=True)\n",
    "\n",
    "X_test.isna().sum().sum()"
   ]
  },
  {
   "cell_type": "markdown",
   "metadata": {},
   "source": [
    "## ADASYN Over Sampling"
   ]
  },
  {
   "cell_type": "code",
   "execution_count": 19,
   "metadata": {},
   "outputs": [
    {
     "name": "stderr",
     "output_type": "stream",
     "text": [
      "/opt/anaconda3/envs/learn-env/lib/python3.6/site-packages/sklearn/utils/deprecation.py:87: FutureWarning: Function safe_indexing is deprecated; safe_indexing is deprecated in version 0.22 and will be removed in version 0.24.\n",
      "  warnings.warn(msg, category=FutureWarning)\n"
     ]
    },
    {
     "data": {
      "text/plain": [
       "((857945, 92), (857945,))"
      ]
     },
     "execution_count": 19,
     "metadata": {},
     "output_type": "execute_result"
    }
   ],
   "source": [
    "ada = ADASYN('minority', random_state=42, n_neighbors = 6, n_jobs=-1)\n",
    "\n",
    "columns= X_train.columns\n",
    "X_train, y_train = ada.fit_resample(X_train, y_train)\n",
    "\n",
    "y_train = pd.Series(y_train)\n",
    "X_train = pd.DataFrame(X_train, columns=columns)\n",
    "X_train.shape, y_train.shape"
   ]
  },
  {
   "cell_type": "code",
   "execution_count": 21,
   "metadata": {},
   "outputs": [],
   "source": [
    "X_train.to_pickle('X_train')\n",
    "y_train.to_pickle('y_train')\n",
    "X_test.to_pickle('X_test')\n",
    "y_test.to_pickle('y_test')"
   ]
  },
  {
   "cell_type": "code",
   "execution_count": null,
   "metadata": {},
   "outputs": [],
   "source": []
  }
 ],
 "metadata": {
  "kernelspec": {
   "display_name": "learn-env",
   "language": "python",
   "name": "learn-env"
  },
  "language_info": {
   "codemirror_mode": {
    "name": "ipython",
    "version": 3
   },
   "file_extension": ".py",
   "mimetype": "text/x-python",
   "name": "python",
   "nbconvert_exporter": "python",
   "pygments_lexer": "ipython3",
   "version": "3.6.9"
  }
 },
 "nbformat": 4,
 "nbformat_minor": 4
}
